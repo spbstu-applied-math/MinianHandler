{
 "cells": [
  {
   "cell_type": "markdown",
   "id": "11c503cb",
   "metadata": {},
   "source": [
    "# Imports"
   ]
  },
  {
   "cell_type": "code",
   "execution_count": null,
   "id": "f0728ab9",
   "metadata": {},
   "outputs": [],
   "source": [
    "from analysis.multiple_shuffling import MultipleShuffler\n",
    "from analysis.widgets import MultipleShufflingWidgets as msw\n",
    "import matplotlib as mpl\n",
    "\n",
    "mpl.rcParams['figure.dpi'] = 300"
   ]
  },
  {
   "cell_type": "markdown",
   "id": "40bae8e0",
   "metadata": {},
   "source": [
    "# Data"
   ]
  },
  {
   "cell_type": "code",
   "execution_count": null,
   "id": "b2463512",
   "metadata": {},
   "outputs": [],
   "source": [
    "dates = {\n",
    "    'mouseold': {'path': '1',\n",
    "                    'fps': 20},\n",
    "    'mouseold': {'path': '2',\n",
    "                    'fps': 20},\n",
    "    'mouseold': {'path': '3',\n",
    "                    'fps': 20},\n",
    "}\n",
    "\n",
    "path_to_data = 'demo_movies/mouseold'\n",
    "\n",
    "num_of_shuffles = 2\n",
    "\n",
    "shuffle_fractions = [.5, 1.]"
   ]
  },
  {
   "cell_type": "markdown",
   "id": "7f1c33d8",
   "metadata": {},
   "source": [
    "# Experiments"
   ]
  },
  {
   "cell_type": "code",
   "execution_count": null,
   "id": "d08c9851",
   "metadata": {},
   "outputs": [],
   "source": [
    "ms = MultipleShuffler(path_to_data, \n",
    "                      dates,\n",
    "                      num_of_shuffles=num_of_shuffles,\n",
    "                      shuffle_fractions=shuffle_fractions\n",
    "                     )"
   ]
  },
  {
   "cell_type": "code",
   "execution_count": null,
   "id": "0966d235",
   "metadata": {},
   "outputs": [],
   "source": [
    "msw.show_day_mean_correlation_range(ms)"
   ]
  },
  {
   "cell_type": "code",
   "execution_count": null,
   "id": "1abb41d5",
   "metadata": {},
   "outputs": [],
   "source": [
    "ms.show_position_mean_correlation_range()"
   ]
  },
  {
   "cell_type": "code",
   "execution_count": null,
   "id": "65233777",
   "metadata": {},
   "outputs": [],
   "source": [
    "msw.show_mean_statistic_peak(ms)"
   ]
  },
  {
   "cell_type": "code",
   "execution_count": null,
   "id": "034ceb6b",
   "metadata": {},
   "outputs": [],
   "source": [
    "msw.save(ms, path_to_data)"
   ]
  },
  {
   "cell_type": "code",
   "execution_count": null,
   "id": "a5ff4fab",
   "metadata": {},
   "outputs": [],
   "source": []
  }
 ],
 "metadata": {
  "kernelspec": {
   "display_name": "Python 3 (ipykernel)",
   "language": "python",
   "name": "python3"
  },
  "language_info": {
   "codemirror_mode": {
    "name": "ipython",
    "version": 3
   },
   "file_extension": ".py",
   "mimetype": "text/x-python",
   "name": "python",
   "nbconvert_exporter": "python",
   "pygments_lexer": "ipython3",
   "version": "3.8.12"
  }
 },
 "nbformat": 4,
 "nbformat_minor": 5
}
