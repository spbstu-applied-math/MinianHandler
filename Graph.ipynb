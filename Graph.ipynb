{
 "cells": [
  {
   "cell_type": "markdown",
   "metadata": {},
   "source": [
    "# Imports"
   ]
  },
  {
   "cell_type": "code",
   "execution_count": 8,
   "metadata": {},
   "outputs": [],
   "source": [
    "from analysis.graph import GraphAnalysis\n",
    "from analysis.widgets import GraphWidgets as gw\n",
    "import matplotlib as mpl\n",
    "\n",
    "mpl.rcParams['figure.dpi'] = 300"
   ]
  },
  {
   "cell_type": "markdown",
   "metadata": {},
   "source": [
    "# Graph analysis"
   ]
  },
  {
   "cell_type": "code",
   "execution_count": null,
   "metadata": {},
   "outputs": [],
   "source": [
    "# path to the folder with the processed data\n",
    "path_to_data = 'demo_movies'\n",
    "\n",
    "# sessions params\n",
    "# key - unique id\n",
    "# path - path to session data\n",
    "# mouse - mouse id\n",
    "# condition (1/2 etc)\n",
    "# fps - frames per second\n",
    "dates = {\n",
    "    'mouseold1': {'path': 'mouseold/1',\n",
    "                  'mouse': '1',\n",
    "                  'condition': '1',\n",
    "                  'fps': 20},\n",
    "    'mouseold2': {'path': 'mouseold/2',\n",
    "                  'mouse': '1',\n",
    "                  'condition': '1',\n",
    "                  'fps': 20},\n",
    "    'mouseold3': {'path': 'mouseold/3',\n",
    "                  'mouse': '1',\n",
    "                  'condition': '1',\n",
    "                  'fps': 20},\n",
    "\n",
    "    'mouseX': {'path': 'mouse3/right_after',\n",
    "               'mouse': '1',\n",
    "               'condition': '2',\n",
    "               'fps': 15},\n",
    "}\n",
    "\n",
    "conditions_order = {\n",
    "    '1': ['1', '2'],\n",
    "    }"
   ]
  },
  {
   "cell_type": "code",
   "execution_count": null,
   "metadata": {},
   "outputs": [],
   "source": [
    "ga = GraphAnalysis(path_to_data, dates, verbose=True)"
   ]
  },
  {
   "cell_type": "code",
   "execution_count": null,
   "metadata": {},
   "outputs": [],
   "source": [
    "gw.show_clusters(ga)"
   ]
  },
  {
   "cell_type": "code",
   "execution_count": null,
   "metadata": {},
   "outputs": [],
   "source": [
    "gw.show_stats(ga, conditions_order)"
   ]
  },
  {
   "cell_type": "code",
   "execution_count": null,
   "metadata": {},
   "outputs": [],
   "source": [
    "gw.save(ga, path_to_data)"
   ]
  },
  {
   "cell_type": "code",
   "execution_count": null,
   "metadata": {},
   "outputs": [],
   "source": []
  }
 ],
 "metadata": {
  "kernelspec": {
   "display_name": "neuron_analysis",
   "language": "python",
   "name": "python3"
  },
  "language_info": {
   "codemirror_mode": {
    "name": "ipython",
    "version": 3
   },
   "file_extension": ".py",
   "mimetype": "text/x-python",
   "name": "python",
   "nbconvert_exporter": "python",
   "pygments_lexer": "ipython3",
   "version": "3.8.18"
  }
 },
 "nbformat": 4,
 "nbformat_minor": 2
}
