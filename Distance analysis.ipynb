{
 "cells": [
  {
   "cell_type": "markdown",
   "id": "95da7835",
   "metadata": {},
   "source": [
    "# Imports"
   ]
  },
  {
   "cell_type": "code",
   "execution_count": null,
   "id": "00cf4bb4",
   "metadata": {},
   "outputs": [],
   "source": [
    "from analysis.distance import DistanceAnalysis\n",
    "from analysis.widgets import DistanceAnalysisWidgets as daw\n",
    "from analysis.widgets import save_df_button\n",
    "import matplotlib as mpl\n",
    "mpl.rcParams['figure.dpi'] = 300"
   ]
  },
  {
   "cell_type": "markdown",
   "id": "bed27825",
   "metadata": {},
   "source": [
    "# Data"
   ]
  },
  {
   "cell_type": "code",
   "execution_count": null,
   "id": "66d21921",
   "metadata": {},
   "outputs": [],
   "source": [
    "dates = [\n",
    "    '1',\n",
    "    '2',\n",
    "    '3',\n",
    "]\n",
    "\n",
    "path_to_data = 'demo_movies/mouseold'\n",
    "\n",
    "fps = 20"
   ]
  },
  {
   "cell_type": "code",
   "execution_count": null,
   "id": "6155340b",
   "metadata": {},
   "outputs": [],
   "source": [
    "da = DistanceAnalysis(path_to_data, dates, fps)"
   ]
  },
  {
   "cell_type": "code",
   "execution_count": null,
   "id": "24d39856",
   "metadata": {},
   "outputs": [],
   "source": [
    "da.plot_radius_dependency()"
   ]
  },
  {
   "cell_type": "code",
   "execution_count": null,
   "id": "8bb85502",
   "metadata": {},
   "outputs": [],
   "source": [
    "daw.plot_distance_distribution(da)"
   ]
  },
  {
   "cell_type": "code",
   "execution_count": null,
   "id": "275a62f9",
   "metadata": {},
   "outputs": [],
   "source": [
    "daw.plot_dependency(da)"
   ]
  },
  {
   "cell_type": "code",
   "execution_count": null,
   "id": "e32ca8fd",
   "metadata": {},
   "outputs": [],
   "source": [
    "daw.save(da, path_to_data)"
   ]
  },
  {
   "cell_type": "code",
   "execution_count": null,
   "id": "8e9e5222",
   "metadata": {},
   "outputs": [],
   "source": []
  }
 ],
 "metadata": {
  "kernelspec": {
   "display_name": "Python 3 (ipykernel)",
   "language": "python",
   "name": "python3"
  },
  "language_info": {
   "codemirror_mode": {
    "name": "ipython",
    "version": 3
   },
   "file_extension": ".py",
   "mimetype": "text/x-python",
   "name": "python",
   "nbconvert_exporter": "python",
   "pygments_lexer": "ipython3",
   "version": "3.8.12"
  }
 },
 "nbformat": 4,
 "nbformat_minor": 5
}
