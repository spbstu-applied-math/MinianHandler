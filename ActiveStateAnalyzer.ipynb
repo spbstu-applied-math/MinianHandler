{
 "cells": [
  {
   "cell_type": "markdown",
   "id": "11dd2559",
   "metadata": {},
   "source": [
    "# Imports"
   ]
  },
  {
   "cell_type": "code",
   "execution_count": null,
   "id": "4d2a059d",
   "metadata": {},
   "outputs": [],
   "source": [
    "from analysis.active_state import ActiveStateAnalyzer\n",
    "from analysis.widgets import ActiveStateAnalyzerWidgets as asw\n",
    "import functools\n",
    "import matplotlib as mpl\n",
    "\n",
    "mpl.rcParams['figure.dpi'] = 300"
   ]
  },
  {
   "cell_type": "markdown",
   "id": "4dcda8f8",
   "metadata": {},
   "source": [
    "# Params"
   ]
  },
  {
   "cell_type": "code",
   "execution_count": null,
   "id": "3df68bd8",
   "metadata": {},
   "outputs": [],
   "source": [
    "# Path to minian output\n",
    "path_to_data = 'demo_movies/mouseold/1/minian/'\n",
    "verbose = True\n",
    "\n",
    "fps = 20"
   ]
  },
  {
   "cell_type": "markdown",
   "id": "5bc9d34c",
   "metadata": {},
   "source": [
    "# Init"
   ]
  },
  {
   "cell_type": "code",
   "execution_count": null,
   "id": "fe2665d8",
   "metadata": {},
   "outputs": [],
   "source": [
    "asa = ActiveStateAnalyzer(path_to_data, fps)"
   ]
  },
  {
   "cell_type": "code",
   "execution_count": null,
   "id": "b62ac09a",
   "metadata": {},
   "outputs": [],
   "source": [
    "asw.find_active_state(asa)"
   ]
  },
  {
   "cell_type": "code",
   "execution_count": null,
   "id": "f3af4848",
   "metadata": {},
   "outputs": [],
   "source": [
    "asa.save_results()"
   ]
  },
  {
   "cell_type": "markdown",
   "id": "025574bc",
   "metadata": {},
   "source": [
    "## Burst rate"
   ]
  },
  {
   "cell_type": "code",
   "execution_count": null,
   "id": "bbfa122b",
   "metadata": {},
   "outputs": [],
   "source": [
    "asw.burst_rate(asa)"
   ]
  },
  {
   "cell_type": "markdown",
   "id": "2ad7f9dd",
   "metadata": {},
   "source": [
    "## Network spike rate"
   ]
  },
  {
   "cell_type": "code",
   "execution_count": null,
   "id": "1cb93bb3",
   "metadata": {},
   "outputs": [],
   "source": [
    "asw.network_spike_rate(asa)"
   ]
  },
  {
   "cell_type": "markdown",
   "id": "1bb511b8",
   "metadata": {},
   "source": [
    "## Network spike peak"
   ]
  },
  {
   "cell_type": "code",
   "execution_count": null,
   "id": "a6935437",
   "metadata": {},
   "outputs": [],
   "source": [
    "asw.network_spike_peak(asa)"
   ]
  },
  {
   "cell_type": "markdown",
   "id": "aba2956f",
   "metadata": {},
   "source": [
    "## Network spike duration "
   ]
  },
  {
   "cell_type": "code",
   "execution_count": null,
   "id": "9e178833",
   "metadata": {
    "scrolled": false
   },
   "outputs": [],
   "source": [
    "# necessary to rerun the cell after changing the list of threshold values\n",
    "thresholds = [5, 10, 20, 30, 50] # %\n",
    "asw.network_spike_duration(asa, thresholds)"
   ]
  },
  {
   "cell_type": "markdown",
   "id": "cd8fbf00",
   "metadata": {},
   "source": [
    "## Correlation"
   ]
  },
  {
   "cell_type": "code",
   "execution_count": null,
   "id": "e9036d71",
   "metadata": {},
   "outputs": [],
   "source": [
    "asw.correlation(asa)"
   ]
  },
  {
   "cell_type": "code",
   "execution_count": null,
   "id": "a24a0fde",
   "metadata": {},
   "outputs": [],
   "source": [
    "asw.save_correlation(asa)"
   ]
  },
  {
   "cell_type": "markdown",
   "id": "54780ac9",
   "metadata": {},
   "source": [
    "## Network degree"
   ]
  },
  {
   "cell_type": "code",
   "execution_count": null,
   "id": "488182c6",
   "metadata": {},
   "outputs": [],
   "source": [
    "asw.network_degree(asa)"
   ]
  },
  {
   "cell_type": "markdown",
   "id": "af9ecc1a",
   "metadata": {},
   "source": [
    "## Connectivity"
   ]
  },
  {
   "cell_type": "code",
   "execution_count": null,
   "id": "5d0d3cef",
   "metadata": {},
   "outputs": [],
   "source": [
    "asw.connectivity(asa)"
   ]
  },
  {
   "cell_type": "code",
   "execution_count": null,
   "id": "859c4fcc",
   "metadata": {},
   "outputs": [],
   "source": []
  }
 ],
 "metadata": {
  "kernelspec": {
   "display_name": "Python 3 (ipykernel)",
   "language": "python",
   "name": "python3"
  },
  "language_info": {
   "codemirror_mode": {
    "name": "ipython",
    "version": 3
   },
   "file_extension": ".py",
   "mimetype": "text/x-python",
   "name": "python",
   "nbconvert_exporter": "python",
   "pygments_lexer": "ipython3",
   "version": "3.8.12"
  }
 },
 "nbformat": 4,
 "nbformat_minor": 5
}
