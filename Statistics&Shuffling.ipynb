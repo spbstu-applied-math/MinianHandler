{
 "cells": [
  {
   "cell_type": "markdown",
   "id": "e9c146c0",
   "metadata": {},
   "source": [
    "# Imports"
   ]
  },
  {
   "cell_type": "code",
   "execution_count": null,
   "id": "ba9a752d",
   "metadata": {},
   "outputs": [],
   "source": [
    "from analysis.shuffling import ShuffleAnalysis\n",
    "from analysis.widgets import StatisticWidgets as stw\n",
    "from analysis.widgets import ShufflingWidgets as shw\n",
    "from analysis.dim_reduction import Data\n",
    "from analysis.multiple_shuffling import MultipleShuffler\n",
    "from analysis.distance import DistanceAnalysis\n",
    "from tqdm.notebook import tqdm\n",
    "import matplotlib as mpl\n",
    "\n",
    "mpl.rcParams['figure.dpi'] = 300"
   ]
  },
  {
   "cell_type": "markdown",
   "id": "284e672f",
   "metadata": {},
   "source": [
    "# Data"
   ]
  },
  {
   "cell_type": "code",
   "execution_count": null,
   "id": "c442a7ae",
   "metadata": {},
   "outputs": [],
   "source": [
    "# path to the folder with the processed data\n",
    "path_to_data = 'demo_movies'\n",
    "\n",
    "# sessions params\n",
    "# key - unique id\n",
    "# path - path to session data\n",
    "# mouse - mouse id\n",
    "# condition (1/2 etc)\n",
    "# fps - frames per second\n",
    "dates = {\n",
    "    'mouseold1': {'path': 'mouseold/1',\n",
    "                  'mouse': '1',\n",
    "                  'condition': '1',\n",
    "                  'fps': 20},\n",
    "    'mouseold2': {'path': 'mouseold/2',\n",
    "                  'mouse': '1',\n",
    "                  'condition': '1',\n",
    "                  'fps': 20},\n",
    "    'mouseold3': {'path': 'mouseold/3',\n",
    "                  'mouse': '1',\n",
    "                  'condition': '1',\n",
    "                  'fps': 20},\n",
    "\n",
    "    'mouseX': {'path': 'mouse3/right_after',\n",
    "               'mouse': '1',\n",
    "               'condition': '2',\n",
    "               'fps': 15},\n",
    "}"
   ]
  },
  {
   "cell_type": "markdown",
   "id": "a59fb5dd",
   "metadata": {},
   "source": [
    "# Shuffling"
   ]
  },
  {
   "cell_type": "code",
   "execution_count": null,
   "id": "e5793026",
   "metadata": {},
   "outputs": [],
   "source": [
    "shuffle_fraction = 1.0 # [0, 1]"
   ]
  },
  {
   "cell_type": "code",
   "execution_count": null,
   "id": "3110de75",
   "metadata": {},
   "outputs": [],
   "source": [
    "sh = ShuffleAnalysis(path_to_data, dates, shuffle_fraction)"
   ]
  },
  {
   "cell_type": "code",
   "execution_count": null,
   "id": "fa24b743",
   "metadata": {},
   "outputs": [],
   "source": [
    "shw.show_shuffling(sh);"
   ]
  },
  {
   "cell_type": "code",
   "execution_count": null,
   "id": "6affb481",
   "metadata": {},
   "outputs": [],
   "source": [
    "shw.correlation_ptp(sh);"
   ]
  },
  {
   "cell_type": "code",
   "execution_count": null,
   "id": "42c9c485",
   "metadata": {},
   "outputs": [],
   "source": [
    "shw.statistic_info(sh);"
   ]
  },
  {
   "cell_type": "markdown",
   "id": "4a7e2388",
   "metadata": {},
   "source": [
    "# Statistics"
   ]
  },
  {
   "cell_type": "markdown",
   "id": "3c4e87b9",
   "metadata": {},
   "source": [
    "## Features"
   ]
  },
  {
   "cell_type": "code",
   "execution_count": null,
   "id": "5187c51f",
   "metadata": {},
   "outputs": [],
   "source": [
    "%%time\n",
    "# data loading\n",
    "data_class = Data(path_to_data, dates, verbose=True)\n",
    "data_class.get_data()\n"
   ]
  },
  {
   "cell_type": "code",
   "execution_count": null,
   "id": "7608ef51",
   "metadata": {},
   "outputs": [],
   "source": [
    "stw.show_features(data_class)"
   ]
  },
  {
   "cell_type": "markdown",
   "id": "534a04c4",
   "metadata": {},
   "source": [
    "## Shuffling"
   ]
  },
  {
   "cell_type": "code",
   "execution_count": null,
   "id": "7d6d4122",
   "metadata": {},
   "outputs": [],
   "source": [
    "num_of_shuffles = 2\n",
    "\n",
    "shuffle_fractions = [.5, 1.]\n",
    "\n",
    "ms = MultipleShuffler(\n",
    "    path_to_data,\n",
    "    dates,\n",
    "    num_of_shuffles=num_of_shuffles,\n",
    "    shuffle_fractions=shuffle_fractions\n",
    ")"
   ]
  },
  {
   "cell_type": "code",
   "execution_count": null,
   "id": "36be5a62",
   "metadata": {},
   "outputs": [],
   "source": [
    "stw.show_shuffling(ms)"
   ]
  },
  {
   "cell_type": "markdown",
   "id": "f817b2d3",
   "metadata": {},
   "source": [
    "## Distance"
   ]
  },
  {
   "cell_type": "code",
   "execution_count": null,
   "id": "30206e9a",
   "metadata": {},
   "outputs": [],
   "source": [
    "dates_da = [\n",
    "    '1',\n",
    "    '2',\n",
    "    '3',\n",
    "]\n",
    "\n",
    "path_to_data_da = 'demo_movies/mouseold'\n",
    "\n",
    "fps_da = 20"
   ]
  },
  {
   "cell_type": "code",
   "execution_count": null,
   "id": "fe165452",
   "metadata": {},
   "outputs": [],
   "source": [
    "da = DistanceAnalysis(path_to_data_da, dates_da, fps_da)"
   ]
  },
  {
   "cell_type": "code",
   "execution_count": null,
   "id": "7a123fc1",
   "metadata": {},
   "outputs": [],
   "source": [
    "stw.show_distance(da)"
   ]
  },
  {
   "cell_type": "code",
   "execution_count": null,
   "id": "e6d169c4",
   "metadata": {},
   "outputs": [],
   "source": []
  },
  {
   "cell_type": "code",
   "execution_count": null,
   "id": "450713c8",
   "metadata": {},
   "outputs": [],
   "source": []
  }
 ],
 "metadata": {
  "kernelspec": {
   "display_name": "Python 3 (ipykernel)",
   "language": "python",
   "name": "python3"
  },
  "language_info": {
   "codemirror_mode": {
    "name": "ipython",
    "version": 3
   },
   "file_extension": ".py",
   "mimetype": "text/x-python",
   "name": "python",
   "nbconvert_exporter": "python",
   "pygments_lexer": "ipython3",
   "version": "3.8.12"
  }
 },
 "nbformat": 4,
 "nbformat_minor": 5
}
