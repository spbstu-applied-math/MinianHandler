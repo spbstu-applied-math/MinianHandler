{
 "cells": [
  {
   "cell_type": "markdown",
   "id": "e9c146c0",
   "metadata": {},
   "source": [
    "# Imports"
   ]
  },
  {
   "cell_type": "code",
   "execution_count": null,
   "id": "ba9a752d",
   "metadata": {},
   "outputs": [],
   "source": [
    "from analysis.statistics import StatTests\n",
    "from analysis.shuffling import ShuffleAnalysis\n",
    "from analysis.widgets import StatisticWidgets as stw\n",
    "from analysis.widgets import ShufflingWidgets as shw\n",
    "from tqdm.notebook import tqdm\n",
    "import matplotlib as mpl\n",
    "\n",
    "mpl.rcParams['figure.dpi'] = 300"
   ]
  },
  {
   "cell_type": "markdown",
   "id": "284e672f",
   "metadata": {},
   "source": [
    "# Data"
   ]
  },
  {
   "cell_type": "code",
   "execution_count": null,
   "id": "c442a7ae",
   "metadata": {},
   "outputs": [],
   "source": [
    "dates = {\n",
    "    'mouseold1': {'path': 'mouseold/1',\n",
    "                    'fps': 20},\n",
    "    'mouseold2': {'path': 'mouseold/2',\n",
    "                    'fps': 20},\n",
    "    'mouseold3': {'path': 'mouseold/3',\n",
    "                    'fps': 20},\n",
    "}\n",
    "\n",
    "path_to_data = 'demo_movies'"
   ]
  },
  {
   "cell_type": "markdown",
   "id": "4a7e2388",
   "metadata": {},
   "source": [
    "# Statistics"
   ]
  },
  {
   "cell_type": "markdown",
   "id": "54c45eed",
   "metadata": {},
   "source": [
    "## Init"
   ]
  },
  {
   "cell_type": "code",
   "execution_count": null,
   "id": "2940e6d4",
   "metadata": {},
   "outputs": [],
   "source": [
    "%%time\n",
    "st = StatTests(path_to_data, dates)"
   ]
  },
  {
   "cell_type": "markdown",
   "id": "c4b286ab",
   "metadata": {},
   "source": [
    "## Correlation & Statistics"
   ]
  },
  {
   "cell_type": "code",
   "execution_count": null,
   "id": "dc0debf0",
   "metadata": {},
   "outputs": [],
   "source": [
    "stw.show_correlation_distribution(st)"
   ]
  },
  {
   "cell_type": "code",
   "execution_count": null,
   "id": "ebb6ec29",
   "metadata": {},
   "outputs": [],
   "source": [
    "st.show_stats_distribution()"
   ]
  },
  {
   "cell_type": "code",
   "execution_count": null,
   "id": "2ac37d65",
   "metadata": {},
   "outputs": [],
   "source": [
    "stw.get_test(st);"
   ]
  },
  {
   "cell_type": "markdown",
   "id": "a87b3da0",
   "metadata": {},
   "source": [
    "## Correlation advanced"
   ]
  },
  {
   "cell_type": "code",
   "execution_count": null,
   "id": "5ba9ae3b",
   "metadata": {},
   "outputs": [],
   "source": [
    "stw.show_distribution_of_connectivity(st)"
   ]
  },
  {
   "cell_type": "code",
   "execution_count": null,
   "id": "f4014892",
   "metadata": {},
   "outputs": [],
   "source": [
    "stw.show_network_degree(st)"
   ]
  },
  {
   "cell_type": "markdown",
   "id": "a59fb5dd",
   "metadata": {},
   "source": [
    "# Shuffling"
   ]
  },
  {
   "cell_type": "code",
   "execution_count": null,
   "id": "e5793026",
   "metadata": {},
   "outputs": [],
   "source": [
    "shuffle_fraction = 1.0 # [0, 1]"
   ]
  },
  {
   "cell_type": "code",
   "execution_count": null,
   "id": "3110de75",
   "metadata": {},
   "outputs": [],
   "source": [
    "sh = ShuffleAnalysis(path_to_data, dates, shuffle_fraction)"
   ]
  },
  {
   "cell_type": "code",
   "execution_count": null,
   "id": "fa24b743",
   "metadata": {},
   "outputs": [],
   "source": [
    "shw.show_shuffling(sh);"
   ]
  },
  {
   "cell_type": "code",
   "execution_count": null,
   "id": "6affb481",
   "metadata": {},
   "outputs": [],
   "source": [
    "shw.correlation_ptp(sh);"
   ]
  },
  {
   "cell_type": "code",
   "execution_count": null,
   "id": "42c9c485",
   "metadata": {},
   "outputs": [],
   "source": [
    "shw.statistic_info(sh);"
   ]
  },
  {
   "cell_type": "code",
   "execution_count": null,
   "id": "821e13bc",
   "metadata": {},
   "outputs": [],
   "source": []
  }
 ],
 "metadata": {
  "kernelspec": {
   "display_name": "Python 3 (ipykernel)",
   "language": "python",
   "name": "python3"
  },
  "language_info": {
   "codemirror_mode": {
    "name": "ipython",
    "version": 3
   },
   "file_extension": ".py",
   "mimetype": "text/x-python",
   "name": "python",
   "nbconvert_exporter": "python",
   "pygments_lexer": "ipython3",
   "version": "3.8.12"
  }
 },
 "nbformat": 4,
 "nbformat_minor": 5
}
